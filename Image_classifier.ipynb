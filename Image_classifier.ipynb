{
  "nbformat": 4,
  "nbformat_minor": 0,
  "metadata": {
    "colab": {
      "name": "Image classifier.ipynb",
      "provenance": []
    },
    "kernelspec": {
      "name": "python3",
      "display_name": "Python 3"
    },
    "language_info": {
      "name": "python"
    }
  },
  "cells": [
    {
      "cell_type": "code",
      "metadata": {
        "id": "4QmA8YeNhHpj"
      },
      "source": [
        "# import packages\n",
        "import tensorflow as tf\n",
        "from tensorflow import keras\n",
        "from PIL import Image\n",
        "import numpy as np\n",
        "import pandas as pd\n",
        "from matplotlib import pyplot as plt\n",
        "# Keras provides utility functions to fetch and load common datasets. We will be using Fashion-MNIST dataset.\n",
        "# Fashion-MNIST is a dataset of Zalando's article images consisting of a training set of 60,000 examples and a test set of 10,000 examples. \n",
        "# Each example is a 28x28 grayscale image, associated with a label from 10 classes."
      ],
      "execution_count": null,
      "outputs": []
    },
    {
      "cell_type": "code",
      "metadata": {
        "id": "p2OKOC0Nhi0C"
      },
      "source": [
        "fashion_mnist = keras.datasets.fashion_mnist\n",
        "(X_train_full, y_train_full), (X_test, y_test) = fashion_mnist.load_data() \n",
        "# Dataset contains a training set and testing set.\n",
        "# The training set is divided into training and validation.\n",
        "# The test data will be used later to evaluate the accuracy of the model"
      ],
      "execution_count": null,
      "outputs": []
    },
    {
      "cell_type": "code",
      "metadata": {
        "id": "uOvVqZYNjNXs",
        "colab": {
          "base_uri": "https://localhost:8080/"
        },
        "outputId": "fef5771f-3765-4db6-ae1a-f019e1d71b9c"
      },
      "source": [
        "X_train_full.shape"
      ],
      "execution_count": null,
      "outputs": [
        {
          "output_type": "execute_result",
          "data": {
            "text/plain": [
              "(60000, 28, 28)"
            ]
          },
          "metadata": {},
          "execution_count": 5
        }
      ]
    },
    {
      "cell_type": "code",
      "metadata": {
        "id": "dKqhQ5l8jWjC",
        "colab": {
          "base_uri": "https://localhost:8080/"
        },
        "outputId": "65f0308f-b93c-42b0-dd36-f20310653c21"
      },
      "source": [
        "X_train_full.dtype"
      ],
      "execution_count": null,
      "outputs": [
        {
          "output_type": "execute_result",
          "data": {
            "text/plain": [
              "dtype('uint8')"
            ]
          },
          "metadata": {},
          "execution_count": 6
        }
      ]
    },
    {
      "cell_type": "code",
      "metadata": {
        "id": "Z8PYjwDw6ZgF",
        "colab": {
          "base_uri": "https://localhost:8080/"
        },
        "outputId": "90894e62-ad43-4d77-bdee-6a9d64061cba"
      },
      "source": [
        "X_test.shape"
      ],
      "execution_count": null,
      "outputs": [
        {
          "output_type": "execute_result",
          "data": {
            "text/plain": [
              "(10000, 28, 28)"
            ]
          },
          "metadata": {},
          "execution_count": 7
        }
      ]
    },
    {
      "cell_type": "code",
      "metadata": {
        "id": "CvJSSPgEja9l"
      },
      "source": [
        "# Divide the dataset into training data and validation data\n",
        "X_valid, X_train = X_train_full[:5000]/255.0, X_train_full[5000:]/255.0\n",
        "y_valid, y_train = y_train_full[:5000], y_train_full[5000:]"
      ],
      "execution_count": null,
      "outputs": []
    },
    {
      "cell_type": "code",
      "metadata": {
        "id": "YrKcnGXH-kmX",
        "colab": {
          "base_uri": "https://localhost:8080/"
        },
        "outputId": "024e6483-35af-43d2-e9f1-7d40618efdcc"
      },
      "source": [
        "X_train.shape"
      ],
      "execution_count": null,
      "outputs": [
        {
          "output_type": "execute_result",
          "data": {
            "text/plain": [
              "(55000, 28, 28)"
            ]
          },
          "metadata": {},
          "execution_count": 9
        }
      ]
    },
    {
      "cell_type": "code",
      "metadata": {
        "id": "SyKe7Z9apmWM"
      },
      "source": [
        "# These are the different classes that we are going to assign to the dataset\n",
        "class_names = [\"T-shirt/top\", \"Trouser\", \"Pullover\", \"Dress\", \"Coat\", \"Sandal\", \"Shirt\", \"Sneaker\", \"Bag\", \"Ankle boot\"]"
      ],
      "execution_count": null,
      "outputs": []
    },
    {
      "cell_type": "code",
      "metadata": {
        "id": "L9I8xscHqUXQ",
        "colab": {
          "base_uri": "https://localhost:8080/",
          "height": 35
        },
        "outputId": "82f24bc1-f684-436a-93d0-aa7dc84e60b4"
      },
      "source": [
        "class_names[y_train[0]]"
      ],
      "execution_count": null,
      "outputs": [
        {
          "output_type": "execute_result",
          "data": {
            "application/vnd.google.colaboratory.intrinsic+json": {
              "type": "string"
            },
            "text/plain": [
              "'Coat'"
            ]
          },
          "metadata": {},
          "execution_count": 11
        }
      ]
    },
    {
      "cell_type": "code",
      "metadata": {
        "id": "_hTBYdqzqa5-",
        "colab": {
          "base_uri": "https://localhost:8080/"
        },
        "outputId": "d53e2bec-4252-4514-8fe3-cb4f1365ea9a"
      },
      "source": [
        "y_train[0]"
      ],
      "execution_count": null,
      "outputs": [
        {
          "output_type": "execute_result",
          "data": {
            "text/plain": [
              "4"
            ]
          },
          "metadata": {},
          "execution_count": 12
        }
      ]
    },
    {
      "cell_type": "code",
      "metadata": {
        "id": "SYCmJv7bqj8l",
        "colab": {
          "base_uri": "https://localhost:8080/"
        },
        "outputId": "56a7300f-6332-48e5-bedd-991db7debe72"
      },
      "source": [
        "X_train[0]"
      ],
      "execution_count": null,
      "outputs": [
        {
          "output_type": "execute_result",
          "data": {
            "text/plain": [
              "array([[0.        , 0.        , 0.        , 0.        , 0.        ,\n",
              "        0.        , 0.        , 0.        , 0.        , 0.        ,\n",
              "        0.        , 0.        , 0.        , 0.        , 0.        ,\n",
              "        0.        , 0.        , 0.        , 0.        , 0.00392157,\n",
              "        0.        , 0.        , 0.        , 0.        , 0.        ,\n",
              "        0.        , 0.        , 0.        ],\n",
              "       [0.        , 0.        , 0.        , 0.        , 0.        ,\n",
              "        0.        , 0.        , 0.        , 0.        , 0.        ,\n",
              "        0.        , 0.17254902, 0.49803922, 0.71372549, 0.7254902 ,\n",
              "        0.63137255, 0.47058824, 0.21568627, 0.        , 0.        ,\n",
              "        0.        , 0.        , 0.        , 0.        , 0.        ,\n",
              "        0.        , 0.        , 0.        ],\n",
              "       [0.        , 0.        , 0.        , 0.        , 0.        ,\n",
              "        0.        , 0.        , 0.        , 0.        , 0.16470588,\n",
              "        0.77647059, 0.98431373, 1.        , 0.98431373, 0.97647059,\n",
              "        0.96862745, 1.        , 0.98823529, 0.83921569, 0.39215686,\n",
              "        0.        , 0.        , 0.        , 0.        , 0.        ,\n",
              "        0.        , 0.        , 0.        ],\n",
              "       [0.        , 0.        , 0.        , 0.        , 0.        ,\n",
              "        0.        , 0.00784314, 0.        , 0.        , 0.91372549,\n",
              "        0.98823529, 0.92941176, 0.9372549 , 0.91764706, 0.92941176,\n",
              "        0.92156863, 0.92941176, 0.92941176, 0.99607843, 0.89019608,\n",
              "        0.        , 0.        , 0.        , 0.        , 0.00392157,\n",
              "        0.        , 0.        , 0.        ],\n",
              "       [0.        , 0.        , 0.        , 0.        , 0.        ,\n",
              "        0.00784314, 0.        , 0.        , 0.0627451 , 0.82352941,\n",
              "        0.88235294, 0.84313725, 0.68627451, 0.85098039, 0.84705882,\n",
              "        0.75686275, 0.76862745, 0.88627451, 0.86666667, 0.81960784,\n",
              "        0.19607843, 0.        , 0.        , 0.00784314, 0.        ,\n",
              "        0.        , 0.        , 0.        ],\n",
              "       [0.        , 0.        , 0.        , 0.        , 0.00784314,\n",
              "        0.        , 0.        , 0.78039216, 0.89803922, 0.90980392,\n",
              "        0.90196078, 0.96078431, 0.8       , 0.85882353, 0.99215686,\n",
              "        0.96078431, 0.81176471, 0.76078431, 0.8745098 , 0.90588235,\n",
              "        0.9254902 , 0.92156863, 0.        , 0.        , 0.01176471,\n",
              "        0.        , 0.        , 0.        ],\n",
              "       [0.        , 0.        , 0.        , 0.        , 0.00392157,\n",
              "        0.        , 0.5372549 , 0.92156863, 0.8       , 0.81960784,\n",
              "        0.78823529, 0.81960784, 0.91764706, 0.74509804, 0.91764706,\n",
              "        0.85490196, 0.84313725, 0.93333333, 0.9372549 , 0.8       ,\n",
              "        0.74117647, 0.87843137, 0.60392157, 0.        , 0.        ,\n",
              "        0.        , 0.        , 0.        ],\n",
              "       [0.        , 0.        , 0.        , 0.        , 0.        ,\n",
              "        0.        , 0.76078431, 0.78823529, 0.78431373, 0.81960784,\n",
              "        0.79215686, 0.75686275, 0.80392157, 0.76078431, 0.71764706,\n",
              "        0.85490196, 0.90588235, 0.77254902, 0.6745098 , 0.70980392,\n",
              "        0.75686275, 0.80392157, 0.78039216, 0.        , 0.        ,\n",
              "        0.        , 0.        , 0.        ],\n",
              "       [0.        , 0.        , 0.        , 0.        , 0.        ,\n",
              "        0.01176471, 0.83137255, 0.79607843, 0.7372549 , 0.74117647,\n",
              "        0.76862745, 0.77647059, 0.77647059, 0.78823529, 0.76862745,\n",
              "        0.85098039, 0.70196078, 0.65490196, 0.71764706, 0.85098039,\n",
              "        0.77254902, 0.79215686, 0.85882353, 0.11764706, 0.        ,\n",
              "        0.        , 0.        , 0.        ],\n",
              "       [0.        , 0.        , 0.        , 0.        , 0.        ,\n",
              "        0.13333333, 0.88235294, 0.78431373, 0.76078431, 0.74509804,\n",
              "        0.7372549 , 0.75294118, 0.76862745, 0.75294118, 0.66666667,\n",
              "        0.79215686, 0.74509804, 0.78823529, 0.76470588, 0.78431373,\n",
              "        0.78823529, 0.81960784, 0.89019608, 0.19607843, 0.        ,\n",
              "        0.        , 0.        , 0.        ],\n",
              "       [0.        , 0.        , 0.        , 0.        , 0.        ,\n",
              "        0.26666667, 0.88235294, 0.82352941, 0.82745098, 0.77647059,\n",
              "        0.75294118, 0.76862745, 0.8       , 0.76862745, 0.70980392,\n",
              "        0.83137255, 0.77254902, 0.76470588, 0.75294118, 0.80784314,\n",
              "        0.8627451 , 0.82352941, 0.89803922, 0.36470588, 0.        ,\n",
              "        0.        , 0.        , 0.        ],\n",
              "       [0.        , 0.        , 0.        , 0.        , 0.        ,\n",
              "        0.43529412, 0.8745098 , 0.89019608, 0.99215686, 0.81960784,\n",
              "        0.76862745, 0.8       , 0.82745098, 0.80784314, 0.71764706,\n",
              "        0.84705882, 0.80784314, 0.82352941, 0.79607843, 0.84313725,\n",
              "        0.95686275, 0.87843137, 0.89019608, 0.58823529, 0.        ,\n",
              "        0.        , 0.        , 0.        ],\n",
              "       [0.        , 0.        , 0.        , 0.        , 0.        ,\n",
              "        0.54509804, 0.88235294, 0.87843137, 1.        , 0.79215686,\n",
              "        0.80784314, 0.83137255, 0.81960784, 0.82745098, 0.74509804,\n",
              "        0.83529412, 0.79215686, 0.81176471, 0.80784314, 0.87058824,\n",
              "        1.        , 0.90196078, 0.8627451 , 0.74509804, 0.        ,\n",
              "        0.        , 0.        , 0.        ],\n",
              "       [0.        , 0.        , 0.        , 0.        , 0.        ,\n",
              "        0.70588235, 0.88627451, 0.87843137, 1.        , 0.78039216,\n",
              "        0.8       , 0.81176471, 0.83921569, 0.83921569, 0.74509804,\n",
              "        0.84705882, 0.80784314, 0.79607843, 0.80392157, 0.85882353,\n",
              "        0.95294118, 0.87843137, 0.83921569, 0.91764706, 0.        ,\n",
              "        0.        , 0.        , 0.        ],\n",
              "       [0.        , 0.        , 0.        , 0.        , 0.        ,\n",
              "        0.88235294, 0.8745098 , 0.89411765, 0.99607843, 0.81960784,\n",
              "        0.80784314, 0.81568627, 0.83529412, 0.82352941, 0.74901961,\n",
              "        0.84313725, 0.81176471, 0.8       , 0.81568627, 0.82745098,\n",
              "        0.97647059, 0.88627451, 0.83921569, 1.        , 0.14901961,\n",
              "        0.        , 0.        , 0.        ],\n",
              "       [0.        , 0.        , 0.        , 0.        , 0.        ,\n",
              "        0.98039216, 0.90980392, 0.94117647, 0.9372549 , 0.82745098,\n",
              "        0.79607843, 0.81960784, 0.80392157, 0.82745098, 0.77254902,\n",
              "        0.84313725, 0.81568627, 0.81568627, 0.83921569, 0.83529412,\n",
              "        0.9372549 , 0.90588235, 0.85882353, 1.        , 0.31764706,\n",
              "        0.        , 0.        , 0.        ],\n",
              "       [0.        , 0.        , 0.        , 0.        , 0.        ,\n",
              "        0.97254902, 0.9254902 , 0.96862745, 0.94117647, 0.79607843,\n",
              "        0.78431373, 0.81568627, 0.80784314, 0.83921569, 0.75686275,\n",
              "        0.83529412, 0.83137255, 0.81568627, 0.83137255, 0.82745098,\n",
              "        0.95294118, 0.94901961, 0.88235294, 0.99607843, 0.25882353,\n",
              "        0.        , 0.        , 0.        ],\n",
              "       [0.        , 0.        , 0.        , 0.        , 0.        ,\n",
              "        0.96862745, 0.90196078, 0.98823529, 0.88627451, 0.78039216,\n",
              "        0.82745098, 0.79215686, 0.82745098, 0.83529412, 0.71372549,\n",
              "        0.83529412, 0.83137255, 0.80784314, 0.79215686, 0.85882353,\n",
              "        0.81176471, 0.96862745, 0.87058824, 0.92941176, 0.40784314,\n",
              "        0.        , 0.        , 0.        ],\n",
              "       [0.        , 0.        , 0.        , 0.        , 0.03921569,\n",
              "        0.95686275, 0.85882353, 0.98039216, 0.80392157, 0.78039216,\n",
              "        0.81960784, 0.79215686, 0.81960784, 0.82745098, 0.74117647,\n",
              "        0.83921569, 0.80784314, 0.82352941, 0.78431373, 0.83137255,\n",
              "        0.60392157, 0.94117647, 0.81568627, 0.85882353, 0.54901961,\n",
              "        0.        , 0.        , 0.        ],\n",
              "       [0.        , 0.        , 0.        , 0.        , 0.08235294,\n",
              "        1.        , 0.87058824, 0.93333333, 0.72156863, 0.82352941,\n",
              "        0.75294118, 0.80784314, 0.81960784, 0.82352941, 0.74117647,\n",
              "        0.83529412, 0.82745098, 0.81960784, 0.75294118, 0.89411765,\n",
              "        0.60784314, 0.88627451, 0.93333333, 0.94509804, 0.65098039,\n",
              "        0.        , 0.        , 0.        ],\n",
              "       [0.        , 0.        , 0.        , 0.        , 0.14509804,\n",
              "        0.96078431, 0.88627451, 0.94509804, 0.58823529, 0.77254902,\n",
              "        0.74117647, 0.8       , 0.81960784, 0.82352941, 0.71764706,\n",
              "        0.83529412, 0.83529412, 0.78823529, 0.72156863, 0.84313725,\n",
              "        0.57254902, 0.84705882, 0.9254902 , 0.88235294, 0.60392157,\n",
              "        0.        , 0.        , 0.        ],\n",
              "       [0.        , 0.        , 0.        , 0.        , 0.22745098,\n",
              "        0.9372549 , 0.89019608, 1.        , 0.61960784, 0.75686275,\n",
              "        0.76470588, 0.8       , 0.81960784, 0.83529412, 0.70588235,\n",
              "        0.81176471, 0.85098039, 0.78039216, 0.76078431, 0.82745098,\n",
              "        0.61960784, 0.85882353, 0.9254902 , 0.84705882, 0.59215686,\n",
              "        0.        , 0.        , 0.        ],\n",
              "       [0.        , 0.        , 0.        , 0.        , 0.26666667,\n",
              "        0.91372549, 0.88627451, 0.95294118, 0.54509804, 0.78431373,\n",
              "        0.75686275, 0.80392157, 0.82352941, 0.81568627, 0.70588235,\n",
              "        0.80392157, 0.83137255, 0.79607843, 0.76862745, 0.84705882,\n",
              "        0.61568627, 0.70196078, 1.        , 0.84705882, 0.60784314,\n",
              "        0.        , 0.        , 0.        ],\n",
              "       [0.        , 0.        , 0.        , 0.        , 0.31764706,\n",
              "        0.88235294, 0.87843137, 0.82745098, 0.54117647, 0.85882353,\n",
              "        0.7254902 , 0.78823529, 0.83529412, 0.81176471, 0.77254902,\n",
              "        0.88627451, 0.83137255, 0.78431373, 0.74509804, 0.84313725,\n",
              "        0.71764706, 0.35294118, 1.        , 0.82745098, 0.57647059,\n",
              "        0.        , 0.        , 0.        ],\n",
              "       [0.        , 0.        , 0.        , 0.        , 0.35686275,\n",
              "        0.82352941, 0.90196078, 0.61960784, 0.44705882, 0.80392157,\n",
              "        0.73333333, 0.81568627, 0.81960784, 0.80784314, 0.75686275,\n",
              "        0.82352941, 0.82745098, 0.8       , 0.76470588, 0.8       ,\n",
              "        0.70980392, 0.09019608, 1.        , 0.83529412, 0.61960784,\n",
              "        0.        , 0.        , 0.        ],\n",
              "       [0.        , 0.        , 0.        , 0.        , 0.34117647,\n",
              "        0.80392157, 0.90980392, 0.42745098, 0.64313725, 1.        ,\n",
              "        0.83921569, 0.87843137, 0.87058824, 0.82352941, 0.77254902,\n",
              "        0.83921569, 0.88235294, 0.87058824, 0.82745098, 0.8627451 ,\n",
              "        0.85098039, 0.        , 0.91764706, 0.84705882, 0.6627451 ,\n",
              "        0.        , 0.        , 0.        ],\n",
              "       [0.        , 0.        , 0.        , 0.        , 0.36078431,\n",
              "        0.83529412, 0.90980392, 0.57254902, 0.01960784, 0.5254902 ,\n",
              "        0.59215686, 0.63529412, 0.66666667, 0.71764706, 0.71372549,\n",
              "        0.64313725, 0.65098039, 0.69803922, 0.63529412, 0.61176471,\n",
              "        0.38431373, 0.        , 0.94117647, 0.88235294, 0.82352941,\n",
              "        0.        , 0.        , 0.        ],\n",
              "       [0.        , 0.        , 0.        , 0.        , 0.16862745,\n",
              "        0.64313725, 0.80784314, 0.55294118, 0.        , 0.        ,\n",
              "        0.        , 0.        , 0.        , 0.        , 0.        ,\n",
              "        0.        , 0.        , 0.        , 0.        , 0.        ,\n",
              "        0.        , 0.        , 0.49803922, 0.49019608, 0.29803922,\n",
              "        0.        , 0.        , 0.        ]])"
            ]
          },
          "metadata": {},
          "execution_count": 13
        }
      ]
    },
    {
      "cell_type": "code",
      "metadata": {
        "id": "ICzBYwsEr0VX",
        "colab": {
          "base_uri": "https://localhost:8080/",
          "height": 264
        },
        "outputId": "cfdd7473-8fdf-4883-f1c3-862ee5a53290"
      },
      "source": [
        "data=np.array(X_train[0])\n",
        "plt.imshow(data, interpolation='nearest')\n",
        "plt.show()"
      ],
      "execution_count": null,
      "outputs": [
        {
          "output_type": "display_data",
          "data": {
            "image/png": "[encoded data removed]",
            "text/plain": [
              "<Figure size 432x288 with 1 Axes>"
            ]
          },
          "metadata": {
            "needs_background": "light"
          }
        }
      ]
    },
    {
      "cell_type": "code",
      "metadata": {
        "id": "hbSnSZKqtD_T"
      },
      "source": [
        "# Designing the Neural Network\n",
        "model=keras.models.Sequential([\n",
        "                               keras.layers.Flatten(input_shape=[28, 28]),\n",
        "                               keras.layers.Dense(300,activation=\"relu\"),\n",
        "                               keras.layers.Dense(100,activation=\"relu\"),\n",
        "                               keras.layers.Dense(10,activation=\"softmax\")\n",
        "                              ])"
      ],
      "execution_count": null,
      "outputs": []
    },
    {
      "cell_type": "code",
      "metadata": {
        "id": "4oGt7s7fvvuY",
        "colab": {
          "base_uri": "https://localhost:8080/"
        },
        "outputId": "cd892084-f194-4fa5-82ca-5e6ed5613439"
      },
      "source": [
        "model.summary()"
      ],
      "execution_count": null,
      "outputs": [
        {
          "output_type": "stream",
          "name": "stdout",
          "text": [
            "Model: \"sequential\"\n",
            "_________________________________________________________________\n",
            "Layer (type)                 Output Shape              Param #   \n",
            "=================================================================\n",
            "flatten (Flatten)            (None, 784)               0         \n",
            "_________________________________________________________________\n",
            "dense (Dense)                (None, 300)               235500    \n",
            "_________________________________________________________________\n",
            "dense_1 (Dense)              (None, 100)               30100     \n",
            "_________________________________________________________________\n",
            "dense_2 (Dense)              (None, 10)                1010      \n",
            "=================================================================\n",
            "Total params: 266,610\n",
            "Trainable params: 266,610\n",
            "Non-trainable params: 0\n",
            "_________________________________________________________________\n"
          ]
        }
      ]
    },
    {
      "cell_type": "code",
      "metadata": {
        "id": "YPBKVYCPwYQf",
        "colab": {
          "base_uri": "https://localhost:8080/"
        },
        "outputId": "411aa562-b8b6-4938-9dbf-c2aac8620cb4"
      },
      "source": [
        "model.layers"
      ],
      "execution_count": null,
      "outputs": [
        {
          "output_type": "execute_result",
          "data": {
            "text/plain": [
              "[<keras.layers.core.Flatten at 0x7fbd0c045690>,\n",
              " <keras.layers.core.Dense at 0x7fbd0bfa9550>,\n",
              " <keras.layers.core.Dense at 0x7fbd0bffb590>,\n",
              " <keras.layers.core.Dense at 0x7fbd0c03f3d0>]"
            ]
          },
          "metadata": {},
          "execution_count": 17
        }
      ]
    },
    {
      "cell_type": "code",
      "metadata": {
        "id": "RSBRzgkaygOC",
        "colab": {
          "base_uri": "https://localhost:8080/",
          "height": 35
        },
        "outputId": "14dee484-1e2a-4160-8f99-04ffc0e5cf80"
      },
      "source": [
        "hidden1 = model.layers[1]\n",
        "hidden1.name"
      ],
      "execution_count": null,
      "outputs": [
        {
          "output_type": "execute_result",
          "data": {
            "application/vnd.google.colaboratory.intrinsic+json": {
              "type": "string"
            },
            "text/plain": [
              "'dense'"
            ]
          },
          "metadata": {},
          "execution_count": 18
        }
      ]
    },
    {
      "cell_type": "code",
      "metadata": {
        "id": "Wi6-Ry4yymMA"
      },
      "source": [
        "weights, biases = hidden1.get_weights()"
      ],
      "execution_count": null,
      "outputs": []
    },
    {
      "cell_type": "code",
      "metadata": {
        "id": "p7KITZEvyyQm",
        "colab": {
          "base_uri": "https://localhost:8080/"
        },
        "outputId": "9731afbb-9e3a-42c4-881b-74f8a547c31a"
      },
      "source": [
        "weights.shape"
      ],
      "execution_count": null,
      "outputs": [
        {
          "output_type": "execute_result",
          "data": {
            "text/plain": [
              "(784, 300)"
            ]
          },
          "metadata": {},
          "execution_count": 20
        }
      ]
    },
    {
      "cell_type": "code",
      "metadata": {
        "id": "_5HDm_FWy3pO"
      },
      "source": [
        "model.compile(loss = \"sparse_categorical_crossentropy\",\n",
        "              optimizer = keras.optimizers.SGD(learning_rate=0.1),\n",
        "              metrics = [\"accuracy\"])"
      ],
      "execution_count": null,
      "outputs": []
    },
    {
      "cell_type": "code",
      "metadata": {
        "id": "9fRIeU5FzbH7",
        "colab": {
          "base_uri": "https://localhost:8080/"
        },
        "outputId": "cf36551b-3d70-4c93-808c-3c3a7b55e006"
      },
      "source": [
        "history = model.fit(X_train, y_train, batch_size = 32, epochs = 30,\n",
        "                    validation_data = (X_valid, y_valid))"
      ],
      "execution_count": null,
      "outputs": [
        {
          "output_type": "stream",
          "name": "stdout",
          "text": [
            "Epoch 1/30\n",
            "1719/1719 [==============================] - 7s 4ms/step - loss: 0.5386 - accuracy: 0.8035 - val_loss: 0.3849 - val_accuracy: 0.8622\n",
            "Epoch 2/30\n",
            "1719/1719 [==============================] - 6s 4ms/step - loss: 0.3914 - accuracy: 0.8553 - val_loss: 0.3938 - val_accuracy: 0.8584\n",
            "Epoch 3/30\n",
            "1719/1719 [==============================] - 6s 3ms/step - loss: 0.3501 - accuracy: 0.8699 - val_loss: 0.3284 - val_accuracy: 0.8826\n",
            "Epoch 4/30\n",
            "1719/1719 [==============================] - 6s 4ms/step - loss: 0.3238 - accuracy: 0.8787 - val_loss: 0.3339 - val_accuracy: 0.8756\n",
            "Epoch 5/30\n",
            "1719/1719 [==============================] - 6s 4ms/step - loss: 0.3055 - accuracy: 0.8856 - val_loss: 0.3355 - val_accuracy: 0.8756\n",
            "Epoch 6/30\n",
            "1719/1719 [==============================] - 6s 4ms/step - loss: 0.2902 - accuracy: 0.8899 - val_loss: 0.3167 - val_accuracy: 0.8898\n",
            "Epoch 7/30\n",
            "1719/1719 [==============================] - 6s 4ms/step - loss: 0.2758 - accuracy: 0.8963 - val_loss: 0.3519 - val_accuracy: 0.8790\n",
            "Epoch 8/30\n",
            "1719/1719 [==============================] - 6s 4ms/step - loss: 0.2632 - accuracy: 0.9007 - val_loss: 0.3221 - val_accuracy: 0.8832\n",
            "Epoch 9/30\n",
            "1719/1719 [==============================] - 6s 4ms/step - loss: 0.2523 - accuracy: 0.9039 - val_loss: 0.3639 - val_accuracy: 0.8726\n",
            "Epoch 10/30\n",
            "1719/1719 [==============================] - 6s 4ms/step - loss: 0.2433 - accuracy: 0.9077 - val_loss: 0.3189 - val_accuracy: 0.8892\n",
            "Epoch 11/30\n",
            "1719/1719 [==============================] - 6s 4ms/step - loss: 0.2357 - accuracy: 0.9112 - val_loss: 0.3210 - val_accuracy: 0.8838\n",
            "Epoch 12/30\n",
            "1719/1719 [==============================] - 6s 4ms/step - loss: 0.2284 - accuracy: 0.9120 - val_loss: 0.3123 - val_accuracy: 0.8874\n",
            "Epoch 13/30\n",
            "1719/1719 [==============================] - 6s 4ms/step - loss: 0.2191 - accuracy: 0.9162 - val_loss: 0.2911 - val_accuracy: 0.8920\n",
            "Epoch 14/30\n",
            "1719/1719 [==============================] - 6s 3ms/step - loss: 0.2126 - accuracy: 0.9197 - val_loss: 0.2905 - val_accuracy: 0.8950\n",
            "Epoch 15/30\n",
            "1719/1719 [==============================] - 6s 4ms/step - loss: 0.2060 - accuracy: 0.9207 - val_loss: 0.2892 - val_accuracy: 0.8998\n",
            "Epoch 16/30\n",
            "1719/1719 [==============================] - 6s 4ms/step - loss: 0.2010 - accuracy: 0.9227 - val_loss: 0.3089 - val_accuracy: 0.8912\n",
            "Epoch 17/30\n",
            "1719/1719 [==============================] - 6s 4ms/step - loss: 0.1946 - accuracy: 0.9265 - val_loss: 0.3255 - val_accuracy: 0.8936\n",
            "Epoch 18/30\n",
            "1719/1719 [==============================] - 6s 4ms/step - loss: 0.1888 - accuracy: 0.9269 - val_loss: 0.3067 - val_accuracy: 0.8956\n",
            "Epoch 19/30\n",
            "1719/1719 [==============================] - 6s 4ms/step - loss: 0.1845 - accuracy: 0.9298 - val_loss: 0.3109 - val_accuracy: 0.8952\n",
            "Epoch 20/30\n",
            "1719/1719 [==============================] - 6s 4ms/step - loss: 0.1791 - accuracy: 0.9319 - val_loss: 0.3338 - val_accuracy: 0.8880\n",
            "Epoch 21/30\n",
            "1719/1719 [==============================] - 6s 4ms/step - loss: 0.1748 - accuracy: 0.9322 - val_loss: 0.3266 - val_accuracy: 0.8822\n",
            "Epoch 22/30\n",
            "1719/1719 [==============================] - 6s 4ms/step - loss: 0.1688 - accuracy: 0.9343 - val_loss: 0.3076 - val_accuracy: 0.8912\n",
            "Epoch 23/30\n",
            "1719/1719 [==============================] - 7s 4ms/step - loss: 0.1637 - accuracy: 0.9373 - val_loss: 0.3696 - val_accuracy: 0.8802\n",
            "Epoch 24/30\n",
            "1719/1719 [==============================] - 6s 4ms/step - loss: 0.1588 - accuracy: 0.9385 - val_loss: 0.3265 - val_accuracy: 0.8932\n",
            "Epoch 25/30\n",
            "1719/1719 [==============================] - 6s 4ms/step - loss: 0.1554 - accuracy: 0.9393 - val_loss: 0.3237 - val_accuracy: 0.8930\n",
            "Epoch 26/30\n",
            "1719/1719 [==============================] - 6s 4ms/step - loss: 0.1508 - accuracy: 0.9424 - val_loss: 0.3388 - val_accuracy: 0.8954\n",
            "Epoch 27/30\n",
            "1719/1719 [==============================] - 6s 4ms/step - loss: 0.1490 - accuracy: 0.9427 - val_loss: 0.3384 - val_accuracy: 0.8894\n",
            "Epoch 28/30\n",
            "1719/1719 [==============================] - 6s 4ms/step - loss: 0.1436 - accuracy: 0.9449 - val_loss: 0.3645 - val_accuracy: 0.8944\n",
            "Epoch 29/30\n",
            "1719/1719 [==============================] - 6s 4ms/step - loss: 0.1395 - accuracy: 0.9459 - val_loss: 0.3529 - val_accuracy: 0.8914\n",
            "Epoch 30/30\n",
            "1719/1719 [==============================] - 6s 4ms/step - loss: 0.1351 - accuracy: 0.9483 - val_loss: 0.3444 - val_accuracy: 0.8910\n"
          ]
        }
      ]
    },
    {
      "cell_type": "code",
      "metadata": {
        "id": "pZS4S7Pfz3YC",
        "colab": {
          "base_uri": "https://localhost:8080/",
          "height": 324
        },
        "outputId": "f5795fa5-68d2-4b40-e38b-dbfc26ddf736"
      },
      "source": [
        "pd.DataFrame(history.history).plot(figsize = (8,5))\n",
        "plt.grid(True)\n",
        "plt.gca().set_ylim(0,1) #set the vertical range to [0, 1]\n",
        "plt.show()"
      ],
      "execution_count": null,
      "outputs": [
        {
          "output_type": "display_data",
          "data": {
            "image/png": "[encoded data removed]",
            "text/plain": [
              "<Figure size 576x360 with 1 Axes>"
            ]
          },
          "metadata": {
            "needs_background": "light"
          }
        }
      ]
    },
    {
      "cell_type": "code",
      "metadata": {
        "id": "FAa1owjxU54-",
        "colab": {
          "base_uri": "https://localhost:8080/"
        },
        "outputId": "496eed78-9183-4f4e-a8ba-5b3f49a416bc"
      },
      "source": [
        "score, acc = model.evaluate(X_test, y_test, verbose=2, batch_size= 1)\n",
        "print('test accuracy:', acc)"
      ],
      "execution_count": null,
      "outputs": [
        {
          "output_type": "stream",
          "name": "stdout",
          "text": [
            "10000/10000 - 13s - loss: 63.4302 - accuracy: 0.8582\n",
            "test accuracy: 0.8582000136375427\n"
          ]
        }
      ]
    },
    {
      "cell_type": "code",
      "metadata": {
        "id": "92JRv7ht4Z6B",
        "colab": {
          "base_uri": "https://localhost:8080/"
        },
        "outputId": "2768730f-1d3f-4009-d796-68864cd4f0ab"
      },
      "source": [
        "X_new = X_test[:5]\n",
        "y_pred = model.predict(X_new)\n",
        "y_pred"
      ],
      "execution_count": null,
      "outputs": [
        {
          "output_type": "execute_result",
          "data": {
            "text/plain": [
              "array([[0., 0., 0., 0., 0., 0., 0., 0., 0., 1.],\n",
              "       [0., 0., 1., 0., 0., 0., 0., 0., 0., 0.],\n",
              "       [0., 1., 0., 0., 0., 0., 0., 0., 0., 0.],\n",
              "       [0., 1., 0., 0., 0., 0., 0., 0., 0., 0.],\n",
              "       [0., 0., 0., 0., 0., 0., 1., 0., 0., 0.]], dtype=float32)"
            ]
          },
          "metadata": {},
          "execution_count": 25
        }
      ]
    },
    {
      "cell_type": "code",
      "metadata": {
        "id": "Ho8bSOszL3JK"
      },
      "source": [
        "classes_x = np.argmax(y_pred,axis=1)"
      ],
      "execution_count": null,
      "outputs": []
    },
    {
      "cell_type": "code",
      "metadata": {
        "id": "H_K-BJIiMIag",
        "colab": {
          "base_uri": "https://localhost:8080/"
        },
        "outputId": "fab4c363-3264-408e-85e5-3c89b85179bf"
      },
      "source": [
        "classes_x"
      ],
      "execution_count": null,
      "outputs": [
        {
          "output_type": "execute_result",
          "data": {
            "text/plain": [
              "array([9, 2, 1, 1, 6])"
            ]
          },
          "metadata": {},
          "execution_count": 27
        }
      ]
    },
    {
      "cell_type": "code",
      "metadata": {
        "id": "AqpVS8zfNnl6",
        "colab": {
          "base_uri": "https://localhost:8080/",
          "height": 264
        },
        "outputId": "b50dfcf0-ab95-4c1a-90b9-53fe6ed5ee1b"
      },
      "source": [
        "# Recall: class_names = [\"T-shirt/top\", \"Trouser\", \"Pullover\", \"Dress\", \"Coat\", \"Sandal\", \"Shirt\", \"Sneaker\", \"Bag\", \"Ankle boot\"]\n",
        "data=np.array(X_new[2])\n",
        "plt.imshow(data, interpolation='nearest')\n",
        "plt.show()"
      ],
      "execution_count": null,
      "outputs": [
        {
          "output_type": "display_data",
          "data": {
            "image/png": "[encoded data removed]",
            "text/plain": [
              "<Figure size 432x288 with 1 Axes>"
            ]
          },
          "metadata": {
            "needs_background": "light"
          }
        }
      ]
    },
    {
      "cell_type": "code",
      "metadata": {
        "id": "7Qql4qQMT-Db"
      },
      "source": [
        ""
      ],
      "execution_count": null,
      "outputs": []
    }
  ]
}